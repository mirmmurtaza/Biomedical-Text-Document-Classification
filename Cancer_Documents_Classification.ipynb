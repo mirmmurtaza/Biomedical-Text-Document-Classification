{
  "nbformat": 4,
  "nbformat_minor": 0,
  "metadata": {
    "colab": {
      "provenance": []
    },
    "kernelspec": {
      "name": "python3",
      "display_name": "Python 3"
    },
    "language_info": {
      "name": "python"
    },
    "gpuClass": "standard"
  },
  "cells": [
    {
      "cell_type": "markdown",
      "source": [
        "# Cancer Documents Classification"
      ],
      "metadata": {
        "id": "rM5hPHQL9b6G"
      }
    },
    {
      "cell_type": "code",
      "execution_count": 4,
      "metadata": {
        "id": "v8vV7a76qj3k"
      },
      "outputs": [],
      "source": [
        "# Importing the libraries\n",
        "#!pip install tensorflow_addons\n",
        "import numpy as np\n",
        "import pandas as pd\n",
        "import matplotlib.pyplot as plt\n",
        "import seaborn as sns\n",
        "import nltk\n",
        "import re\n",
        "import torch\n",
        "import keras\n",
        "import tensorflow as tf\n",
        "\n",
        "from nltk.corpus import stopwords\n",
        "from nltk.tokenize import word_tokenize\n",
        "from nltk.stem import WordNetLemmatizer\n",
        "from sklearn.model_selection import train_test_split\n",
        "from tensorflow.keras.layers import Dense, Input, LSTM, concatenate, Embedding, Flatten, BatchNormalization\n",
        "from keras.models import Model\n",
        "from keras.preprocessing.text import Tokenizer\n",
        "from tensorflow.keras.preprocessing.sequence import pad_sequences\n",
        "from tensorflow_addons.metrics import F1Score\n",
        "from sklearn.metrics import accuracy_score, confusion_matrix"
      ]
    },
    {
      "cell_type": "code",
      "source": [
        "# Loading the data\n",
        "df = pd.read_csv('alldata_1_for_kaggle.csv', encoding='ISO-8859-1')\n",
        "df.head()"
      ],
      "metadata": {
        "colab": {
          "base_uri": "https://localhost:8080/",
          "height": 206
        },
        "id": "_9qeyQu_qnMR",
        "outputId": "dcf2f6bb-6728-4361-8b9d-5f829171cdca"
      },
      "execution_count": 5,
      "outputs": [
        {
          "output_type": "execute_result",
          "data": {
            "text/plain": [
              "   Unnamed: 0               0  \\\n",
              "0           0  Thyroid_Cancer   \n",
              "1           1  Thyroid_Cancer   \n",
              "2           2  Thyroid_Cancer   \n",
              "3           3  Thyroid_Cancer   \n",
              "4           4  Thyroid_Cancer   \n",
              "\n",
              "                                                   a  \n",
              "0  Thyroid surgery in  children in a single insti...  \n",
              "1  \" The adopted strategy was the same as that us...  \n",
              "2  coronary arterybypass grafting thrombosis ï¬b...  \n",
              "3   Solitary plasmacytoma SP of the skull is an u...  \n",
              "4   This study aimed to investigate serum matrix ...  "
            ],
            "text/html": [
              "\n",
              "  <div id=\"df-fed3143b-8c9c-4e88-97fb-70a5f32a9508\">\n",
              "    <div class=\"colab-df-container\">\n",
              "      <div>\n",
              "<style scoped>\n",
              "    .dataframe tbody tr th:only-of-type {\n",
              "        vertical-align: middle;\n",
              "    }\n",
              "\n",
              "    .dataframe tbody tr th {\n",
              "        vertical-align: top;\n",
              "    }\n",
              "\n",
              "    .dataframe thead th {\n",
              "        text-align: right;\n",
              "    }\n",
              "</style>\n",
              "<table border=\"1\" class=\"dataframe\">\n",
              "  <thead>\n",
              "    <tr style=\"text-align: right;\">\n",
              "      <th></th>\n",
              "      <th>Unnamed: 0</th>\n",
              "      <th>0</th>\n",
              "      <th>a</th>\n",
              "    </tr>\n",
              "  </thead>\n",
              "  <tbody>\n",
              "    <tr>\n",
              "      <th>0</th>\n",
              "      <td>0</td>\n",
              "      <td>Thyroid_Cancer</td>\n",
              "      <td>Thyroid surgery in  children in a single insti...</td>\n",
              "    </tr>\n",
              "    <tr>\n",
              "      <th>1</th>\n",
              "      <td>1</td>\n",
              "      <td>Thyroid_Cancer</td>\n",
              "      <td>\" The adopted strategy was the same as that us...</td>\n",
              "    </tr>\n",
              "    <tr>\n",
              "      <th>2</th>\n",
              "      <td>2</td>\n",
              "      <td>Thyroid_Cancer</td>\n",
              "      <td>coronary arterybypass grafting thrombosis ï¬b...</td>\n",
              "    </tr>\n",
              "    <tr>\n",
              "      <th>3</th>\n",
              "      <td>3</td>\n",
              "      <td>Thyroid_Cancer</td>\n",
              "      <td>Solitary plasmacytoma SP of the skull is an u...</td>\n",
              "    </tr>\n",
              "    <tr>\n",
              "      <th>4</th>\n",
              "      <td>4</td>\n",
              "      <td>Thyroid_Cancer</td>\n",
              "      <td>This study aimed to investigate serum matrix ...</td>\n",
              "    </tr>\n",
              "  </tbody>\n",
              "</table>\n",
              "</div>\n",
              "      <button class=\"colab-df-convert\" onclick=\"convertToInteractive('df-fed3143b-8c9c-4e88-97fb-70a5f32a9508')\"\n",
              "              title=\"Convert this dataframe to an interactive table.\"\n",
              "              style=\"display:none;\">\n",
              "        \n",
              "  <svg xmlns=\"http://www.w3.org/2000/svg\" height=\"24px\"viewBox=\"0 0 24 24\"\n",
              "       width=\"24px\">\n",
              "    <path d=\"M0 0h24v24H0V0z\" fill=\"none\"/>\n",
              "    <path d=\"M18.56 5.44l.94 2.06.94-2.06 2.06-.94-2.06-.94-.94-2.06-.94 2.06-2.06.94zm-11 1L8.5 8.5l.94-2.06 2.06-.94-2.06-.94L8.5 2.5l-.94 2.06-2.06.94zm10 10l.94 2.06.94-2.06 2.06-.94-2.06-.94-.94-2.06-.94 2.06-2.06.94z\"/><path d=\"M17.41 7.96l-1.37-1.37c-.4-.4-.92-.59-1.43-.59-.52 0-1.04.2-1.43.59L10.3 9.45l-7.72 7.72c-.78.78-.78 2.05 0 2.83L4 21.41c.39.39.9.59 1.41.59.51 0 1.02-.2 1.41-.59l7.78-7.78 2.81-2.81c.8-.78.8-2.07 0-2.86zM5.41 20L4 18.59l7.72-7.72 1.47 1.35L5.41 20z\"/>\n",
              "  </svg>\n",
              "      </button>\n",
              "      \n",
              "  <style>\n",
              "    .colab-df-container {\n",
              "      display:flex;\n",
              "      flex-wrap:wrap;\n",
              "      gap: 12px;\n",
              "    }\n",
              "\n",
              "    .colab-df-convert {\n",
              "      background-color: #E8F0FE;\n",
              "      border: none;\n",
              "      border-radius: 50%;\n",
              "      cursor: pointer;\n",
              "      display: none;\n",
              "      fill: #1967D2;\n",
              "      height: 32px;\n",
              "      padding: 0 0 0 0;\n",
              "      width: 32px;\n",
              "    }\n",
              "\n",
              "    .colab-df-convert:hover {\n",
              "      background-color: #E2EBFA;\n",
              "      box-shadow: 0px 1px 2px rgba(60, 64, 67, 0.3), 0px 1px 3px 1px rgba(60, 64, 67, 0.15);\n",
              "      fill: #174EA6;\n",
              "    }\n",
              "\n",
              "    [theme=dark] .colab-df-convert {\n",
              "      background-color: #3B4455;\n",
              "      fill: #D2E3FC;\n",
              "    }\n",
              "\n",
              "    [theme=dark] .colab-df-convert:hover {\n",
              "      background-color: #434B5C;\n",
              "      box-shadow: 0px 1px 3px 1px rgba(0, 0, 0, 0.15);\n",
              "      filter: drop-shadow(0px 1px 2px rgba(0, 0, 0, 0.3));\n",
              "      fill: #FFFFFF;\n",
              "    }\n",
              "  </style>\n",
              "\n",
              "      <script>\n",
              "        const buttonEl =\n",
              "          document.querySelector('#df-fed3143b-8c9c-4e88-97fb-70a5f32a9508 button.colab-df-convert');\n",
              "        buttonEl.style.display =\n",
              "          google.colab.kernel.accessAllowed ? 'block' : 'none';\n",
              "\n",
              "        async function convertToInteractive(key) {\n",
              "          const element = document.querySelector('#df-fed3143b-8c9c-4e88-97fb-70a5f32a9508');\n",
              "          const dataTable =\n",
              "            await google.colab.kernel.invokeFunction('convertToInteractive',\n",
              "                                                     [key], {});\n",
              "          if (!dataTable) return;\n",
              "\n",
              "          const docLinkHtml = 'Like what you see? Visit the ' +\n",
              "            '<a target=\"_blank\" href=https://colab.research.google.com/notebooks/data_table.ipynb>data table notebook</a>'\n",
              "            + ' to learn more about interactive tables.';\n",
              "          element.innerHTML = '';\n",
              "          dataTable['output_type'] = 'display_data';\n",
              "          await google.colab.output.renderOutput(dataTable, element);\n",
              "          const docLink = document.createElement('div');\n",
              "          docLink.innerHTML = docLinkHtml;\n",
              "          element.appendChild(docLink);\n",
              "        }\n",
              "      </script>\n",
              "    </div>\n",
              "  </div>\n",
              "  "
            ]
          },
          "metadata": {},
          "execution_count": 5
        }
      ]
    },
    {
      "cell_type": "code",
      "source": [
        "# Dropping the unnecessary column and renaming them\n",
        "df.drop('Unnamed: 0', axis = 1, inplace = True)\n",
        "df.columns = ['Cancer Type', 'Text']\n",
        "df.head()"
      ],
      "metadata": {
        "colab": {
          "base_uri": "https://localhost:8080/",
          "height": 206
        },
        "id": "hGwu87S3q6Cv",
        "outputId": "e8d2940c-e184-48bd-ed0a-0b89f949bf60"
      },
      "execution_count": 6,
      "outputs": [
        {
          "output_type": "execute_result",
          "data": {
            "text/plain": [
              "      Cancer Type                                               Text\n",
              "0  Thyroid_Cancer  Thyroid surgery in  children in a single insti...\n",
              "1  Thyroid_Cancer  \" The adopted strategy was the same as that us...\n",
              "2  Thyroid_Cancer  coronary arterybypass grafting thrombosis ï¬b...\n",
              "3  Thyroid_Cancer   Solitary plasmacytoma SP of the skull is an u...\n",
              "4  Thyroid_Cancer   This study aimed to investigate serum matrix ..."
            ],
            "text/html": [
              "\n",
              "  <div id=\"df-5381303b-dad3-4017-9f20-cf6509173f18\">\n",
              "    <div class=\"colab-df-container\">\n",
              "      <div>\n",
              "<style scoped>\n",
              "    .dataframe tbody tr th:only-of-type {\n",
              "        vertical-align: middle;\n",
              "    }\n",
              "\n",
              "    .dataframe tbody tr th {\n",
              "        vertical-align: top;\n",
              "    }\n",
              "\n",
              "    .dataframe thead th {\n",
              "        text-align: right;\n",
              "    }\n",
              "</style>\n",
              "<table border=\"1\" class=\"dataframe\">\n",
              "  <thead>\n",
              "    <tr style=\"text-align: right;\">\n",
              "      <th></th>\n",
              "      <th>Cancer Type</th>\n",
              "      <th>Text</th>\n",
              "    </tr>\n",
              "  </thead>\n",
              "  <tbody>\n",
              "    <tr>\n",
              "      <th>0</th>\n",
              "      <td>Thyroid_Cancer</td>\n",
              "      <td>Thyroid surgery in  children in a single insti...</td>\n",
              "    </tr>\n",
              "    <tr>\n",
              "      <th>1</th>\n",
              "      <td>Thyroid_Cancer</td>\n",
              "      <td>\" The adopted strategy was the same as that us...</td>\n",
              "    </tr>\n",
              "    <tr>\n",
              "      <th>2</th>\n",
              "      <td>Thyroid_Cancer</td>\n",
              "      <td>coronary arterybypass grafting thrombosis ï¬b...</td>\n",
              "    </tr>\n",
              "    <tr>\n",
              "      <th>3</th>\n",
              "      <td>Thyroid_Cancer</td>\n",
              "      <td>Solitary plasmacytoma SP of the skull is an u...</td>\n",
              "    </tr>\n",
              "    <tr>\n",
              "      <th>4</th>\n",
              "      <td>Thyroid_Cancer</td>\n",
              "      <td>This study aimed to investigate serum matrix ...</td>\n",
              "    </tr>\n",
              "  </tbody>\n",
              "</table>\n",
              "</div>\n",
              "      <button class=\"colab-df-convert\" onclick=\"convertToInteractive('df-5381303b-dad3-4017-9f20-cf6509173f18')\"\n",
              "              title=\"Convert this dataframe to an interactive table.\"\n",
              "              style=\"display:none;\">\n",
              "        \n",
              "  <svg xmlns=\"http://www.w3.org/2000/svg\" height=\"24px\"viewBox=\"0 0 24 24\"\n",
              "       width=\"24px\">\n",
              "    <path d=\"M0 0h24v24H0V0z\" fill=\"none\"/>\n",
              "    <path d=\"M18.56 5.44l.94 2.06.94-2.06 2.06-.94-2.06-.94-.94-2.06-.94 2.06-2.06.94zm-11 1L8.5 8.5l.94-2.06 2.06-.94-2.06-.94L8.5 2.5l-.94 2.06-2.06.94zm10 10l.94 2.06.94-2.06 2.06-.94-2.06-.94-.94-2.06-.94 2.06-2.06.94z\"/><path d=\"M17.41 7.96l-1.37-1.37c-.4-.4-.92-.59-1.43-.59-.52 0-1.04.2-1.43.59L10.3 9.45l-7.72 7.72c-.78.78-.78 2.05 0 2.83L4 21.41c.39.39.9.59 1.41.59.51 0 1.02-.2 1.41-.59l7.78-7.78 2.81-2.81c.8-.78.8-2.07 0-2.86zM5.41 20L4 18.59l7.72-7.72 1.47 1.35L5.41 20z\"/>\n",
              "  </svg>\n",
              "      </button>\n",
              "      \n",
              "  <style>\n",
              "    .colab-df-container {\n",
              "      display:flex;\n",
              "      flex-wrap:wrap;\n",
              "      gap: 12px;\n",
              "    }\n",
              "\n",
              "    .colab-df-convert {\n",
              "      background-color: #E8F0FE;\n",
              "      border: none;\n",
              "      border-radius: 50%;\n",
              "      cursor: pointer;\n",
              "      display: none;\n",
              "      fill: #1967D2;\n",
              "      height: 32px;\n",
              "      padding: 0 0 0 0;\n",
              "      width: 32px;\n",
              "    }\n",
              "\n",
              "    .colab-df-convert:hover {\n",
              "      background-color: #E2EBFA;\n",
              "      box-shadow: 0px 1px 2px rgba(60, 64, 67, 0.3), 0px 1px 3px 1px rgba(60, 64, 67, 0.15);\n",
              "      fill: #174EA6;\n",
              "    }\n",
              "\n",
              "    [theme=dark] .colab-df-convert {\n",
              "      background-color: #3B4455;\n",
              "      fill: #D2E3FC;\n",
              "    }\n",
              "\n",
              "    [theme=dark] .colab-df-convert:hover {\n",
              "      background-color: #434B5C;\n",
              "      box-shadow: 0px 1px 3px 1px rgba(0, 0, 0, 0.15);\n",
              "      filter: drop-shadow(0px 1px 2px rgba(0, 0, 0, 0.3));\n",
              "      fill: #FFFFFF;\n",
              "    }\n",
              "  </style>\n",
              "\n",
              "      <script>\n",
              "        const buttonEl =\n",
              "          document.querySelector('#df-5381303b-dad3-4017-9f20-cf6509173f18 button.colab-df-convert');\n",
              "        buttonEl.style.display =\n",
              "          google.colab.kernel.accessAllowed ? 'block' : 'none';\n",
              "\n",
              "        async function convertToInteractive(key) {\n",
              "          const element = document.querySelector('#df-5381303b-dad3-4017-9f20-cf6509173f18');\n",
              "          const dataTable =\n",
              "            await google.colab.kernel.invokeFunction('convertToInteractive',\n",
              "                                                     [key], {});\n",
              "          if (!dataTable) return;\n",
              "\n",
              "          const docLinkHtml = 'Like what you see? Visit the ' +\n",
              "            '<a target=\"_blank\" href=https://colab.research.google.com/notebooks/data_table.ipynb>data table notebook</a>'\n",
              "            + ' to learn more about interactive tables.';\n",
              "          element.innerHTML = '';\n",
              "          dataTable['output_type'] = 'display_data';\n",
              "          await google.colab.output.renderOutput(dataTable, element);\n",
              "          const docLink = document.createElement('div');\n",
              "          docLink.innerHTML = docLinkHtml;\n",
              "          element.appendChild(docLink);\n",
              "        }\n",
              "      </script>\n",
              "    </div>\n",
              "  </div>\n",
              "  "
            ]
          },
          "metadata": {},
          "execution_count": 6
        }
      ]
    },
    {
      "cell_type": "code",
      "source": [
        "# Plotting the distribution of cancer types in the data\n",
        "df['Cancer Type'].value_counts().plot(kind ='bar')\n",
        "plt.xticks(rotation = 45)\n",
        "plt.title('Distribution of Cancer Types')\n",
        "plt.show()"
      ],
      "metadata": {
        "colab": {
          "base_uri": "https://localhost:8080/",
          "height": 525
        },
        "id": "yIU2U76AsSvJ",
        "outputId": "db5858f6-105c-4782-a626-85b8f8338b2f"
      },
      "execution_count": 7,
      "outputs": [
        {
          "output_type": "display_data",
          "data": {
            "text/plain": [
              "<Figure size 640x480 with 1 Axes>"
            ],
            "image/png": "[encoded data removed]"
          },
          "metadata": {}
        }
      ]
    },
    {
      "cell_type": "code",
      "source": [
        "df = df[(df['Cancer Type'] == 'Thyroid_Cancer') | (df['Cancer Type'] == 'Colon_Cancer')]"
      ],
      "metadata": {
        "id": "bjBCPlcKqdJO"
      },
      "execution_count": 8,
      "outputs": []
    },
    {
      "cell_type": "code",
      "source": [
        "# Preprocessing the text\n",
        "nltk.download('punkt')\n",
        "nltk.download('stopwords')\n",
        "nltk.download('wordnet')\n",
        "\n",
        "\n",
        "def preprocess_text(text):\n",
        "    # Remove special characters and digits\n",
        "    text = re.sub(\"(\\\\d|\\\\W)+\", \" \", text)\n",
        "    \n",
        "    # Tokenize the text into words\n",
        "    tokens = word_tokenize(text.lower())\n",
        "    \n",
        "    # Remove stop words from the tokens\n",
        "    stop_words = set(stopwords.words(\"english\"))\n",
        "    filtered_tokens = [token for token in tokens if token not in stop_words]\n",
        "    \n",
        "    # Lemmatize the words using WordNetLemmatizer\n",
        "    lemmatizer = WordNetLemmatizer()\n",
        "    lemma_tokens = [lemmatizer.lemmatize(token) for token in filtered_tokens]\n",
        "    \n",
        "    # Join the words back into a string and return\n",
        "    return \" \".join(lemma_tokens)"
      ],
      "metadata": {
        "colab": {
          "base_uri": "https://localhost:8080/"
        },
        "id": "7qi5MuYVtuCe",
        "outputId": "ed620988-f40a-4874-bb09-4e843e4f5126"
      },
      "execution_count": 9,
      "outputs": [
        {
          "output_type": "stream",
          "name": "stderr",
          "text": [
            "[nltk_data] Downloading package punkt to /root/nltk_data...\n",
            "[nltk_data]   Unzipping tokenizers/punkt.zip.\n",
            "[nltk_data] Downloading package stopwords to /root/nltk_data...\n",
            "[nltk_data]   Unzipping corpora/stopwords.zip.\n",
            "[nltk_data] Downloading package wordnet to /root/nltk_data...\n"
          ]
        }
      ]
    },
    {
      "cell_type": "code",
      "source": [
        "df['Preprocessed Text'] = df['Text'].apply(preprocess_text)\n",
        "df.head()"
      ],
      "metadata": {
        "colab": {
          "base_uri": "https://localhost:8080/",
          "height": 206
        },
        "id": "pn89oNYAuUjX",
        "outputId": "7b7c6e62-35f4-42d6-bbbb-24ce76206604"
      },
      "execution_count": 11,
      "outputs": [
        {
          "output_type": "execute_result",
          "data": {
            "text/plain": [
              "      Cancer Type                                               Text  \\\n",
              "0  Thyroid_Cancer  Thyroid surgery in  children in a single insti...   \n",
              "1  Thyroid_Cancer  \" The adopted strategy was the same as that us...   \n",
              "2  Thyroid_Cancer  coronary arterybypass grafting thrombosis ï¬b...   \n",
              "3  Thyroid_Cancer   Solitary plasmacytoma SP of the skull is an u...   \n",
              "4  Thyroid_Cancer   This study aimed to investigate serum matrix ...   \n",
              "\n",
              "                                   Preprocessed Text  \n",
              "0  thyroid surgery child single institution osama...  \n",
              "1  adopted strategy used prior year based four ex...  \n",
              "2  coronary arterybypass grafting thrombosis ï br...  \n",
              "3  solitary plasmacytoma sp skull uncommon clinic...  \n",
              "4  study aimed investigate serum matrix metallopr...  "
            ],
            "text/html": [
              "\n",
              "  <div id=\"df-3cf65a24-daf7-47ec-b135-2d5bfa08a256\">\n",
              "    <div class=\"colab-df-container\">\n",
              "      <div>\n",
              "<style scoped>\n",
              "    .dataframe tbody tr th:only-of-type {\n",
              "        vertical-align: middle;\n",
              "    }\n",
              "\n",
              "    .dataframe tbody tr th {\n",
              "        vertical-align: top;\n",
              "    }\n",
              "\n",
              "    .dataframe thead th {\n",
              "        text-align: right;\n",
              "    }\n",
              "</style>\n",
              "<table border=\"1\" class=\"dataframe\">\n",
              "  <thead>\n",
              "    <tr style=\"text-align: right;\">\n",
              "      <th></th>\n",
              "      <th>Cancer Type</th>\n",
              "      <th>Text</th>\n",
              "      <th>Preprocessed Text</th>\n",
              "    </tr>\n",
              "  </thead>\n",
              "  <tbody>\n",
              "    <tr>\n",
              "      <th>0</th>\n",
              "      <td>Thyroid_Cancer</td>\n",
              "      <td>Thyroid surgery in  children in a single insti...</td>\n",
              "      <td>thyroid surgery child single institution osama...</td>\n",
              "    </tr>\n",
              "    <tr>\n",
              "      <th>1</th>\n",
              "      <td>Thyroid_Cancer</td>\n",
              "      <td>\" The adopted strategy was the same as that us...</td>\n",
              "      <td>adopted strategy used prior year based four ex...</td>\n",
              "    </tr>\n",
              "    <tr>\n",
              "      <th>2</th>\n",
              "      <td>Thyroid_Cancer</td>\n",
              "      <td>coronary arterybypass grafting thrombosis ï¬b...</td>\n",
              "      <td>coronary arterybypass grafting thrombosis ï br...</td>\n",
              "    </tr>\n",
              "    <tr>\n",
              "      <th>3</th>\n",
              "      <td>Thyroid_Cancer</td>\n",
              "      <td>Solitary plasmacytoma SP of the skull is an u...</td>\n",
              "      <td>solitary plasmacytoma sp skull uncommon clinic...</td>\n",
              "    </tr>\n",
              "    <tr>\n",
              "      <th>4</th>\n",
              "      <td>Thyroid_Cancer</td>\n",
              "      <td>This study aimed to investigate serum matrix ...</td>\n",
              "      <td>study aimed investigate serum matrix metallopr...</td>\n",
              "    </tr>\n",
              "  </tbody>\n",
              "</table>\n",
              "</div>\n",
              "      <button class=\"colab-df-convert\" onclick=\"convertToInteractive('df-3cf65a24-daf7-47ec-b135-2d5bfa08a256')\"\n",
              "              title=\"Convert this dataframe to an interactive table.\"\n",
              "              style=\"display:none;\">\n",
              "        \n",
              "  <svg xmlns=\"http://www.w3.org/2000/svg\" height=\"24px\"viewBox=\"0 0 24 24\"\n",
              "       width=\"24px\">\n",
              "    <path d=\"M0 0h24v24H0V0z\" fill=\"none\"/>\n",
              "    <path d=\"M18.56 5.44l.94 2.06.94-2.06 2.06-.94-2.06-.94-.94-2.06-.94 2.06-2.06.94zm-11 1L8.5 8.5l.94-2.06 2.06-.94-2.06-.94L8.5 2.5l-.94 2.06-2.06.94zm10 10l.94 2.06.94-2.06 2.06-.94-2.06-.94-.94-2.06-.94 2.06-2.06.94z\"/><path d=\"M17.41 7.96l-1.37-1.37c-.4-.4-.92-.59-1.43-.59-.52 0-1.04.2-1.43.59L10.3 9.45l-7.72 7.72c-.78.78-.78 2.05 0 2.83L4 21.41c.39.39.9.59 1.41.59.51 0 1.02-.2 1.41-.59l7.78-7.78 2.81-2.81c.8-.78.8-2.07 0-2.86zM5.41 20L4 18.59l7.72-7.72 1.47 1.35L5.41 20z\"/>\n",
              "  </svg>\n",
              "      </button>\n",
              "      \n",
              "  <style>\n",
              "    .colab-df-container {\n",
              "      display:flex;\n",
              "      flex-wrap:wrap;\n",
              "      gap: 12px;\n",
              "    }\n",
              "\n",
              "    .colab-df-convert {\n",
              "      background-color: #E8F0FE;\n",
              "      border: none;\n",
              "      border-radius: 50%;\n",
              "      cursor: pointer;\n",
              "      display: none;\n",
              "      fill: #1967D2;\n",
              "      height: 32px;\n",
              "      padding: 0 0 0 0;\n",
              "      width: 32px;\n",
              "    }\n",
              "\n",
              "    .colab-df-convert:hover {\n",
              "      background-color: #E2EBFA;\n",
              "      box-shadow: 0px 1px 2px rgba(60, 64, 67, 0.3), 0px 1px 3px 1px rgba(60, 64, 67, 0.15);\n",
              "      fill: #174EA6;\n",
              "    }\n",
              "\n",
              "    [theme=dark] .colab-df-convert {\n",
              "      background-color: #3B4455;\n",
              "      fill: #D2E3FC;\n",
              "    }\n",
              "\n",
              "    [theme=dark] .colab-df-convert:hover {\n",
              "      background-color: #434B5C;\n",
              "      box-shadow: 0px 1px 3px 1px rgba(0, 0, 0, 0.15);\n",
              "      filter: drop-shadow(0px 1px 2px rgba(0, 0, 0, 0.3));\n",
              "      fill: #FFFFFF;\n",
              "    }\n",
              "  </style>\n",
              "\n",
              "      <script>\n",
              "        const buttonEl =\n",
              "          document.querySelector('#df-3cf65a24-daf7-47ec-b135-2d5bfa08a256 button.colab-df-convert');\n",
              "        buttonEl.style.display =\n",
              "          google.colab.kernel.accessAllowed ? 'block' : 'none';\n",
              "\n",
              "        async function convertToInteractive(key) {\n",
              "          const element = document.querySelector('#df-3cf65a24-daf7-47ec-b135-2d5bfa08a256');\n",
              "          const dataTable =\n",
              "            await google.colab.kernel.invokeFunction('convertToInteractive',\n",
              "                                                     [key], {});\n",
              "          if (!dataTable) return;\n",
              "\n",
              "          const docLinkHtml = 'Like what you see? Visit the ' +\n",
              "            '<a target=\"_blank\" href=https://colab.research.google.com/notebooks/data_table.ipynb>data table notebook</a>'\n",
              "            + ' to learn more about interactive tables.';\n",
              "          element.innerHTML = '';\n",
              "          dataTable['output_type'] = 'display_data';\n",
              "          await google.colab.output.renderOutput(dataTable, element);\n",
              "          const docLink = document.createElement('div');\n",
              "          docLink.innerHTML = docLinkHtml;\n",
              "          element.appendChild(docLink);\n",
              "        }\n",
              "      </script>\n",
              "    </div>\n",
              "  </div>\n",
              "  "
            ]
          },
          "metadata": {},
          "execution_count": 11
        }
      ]
    },
    {
      "cell_type": "code",
      "source": [
        "# Splitting the data into train and test sets\n",
        "X_train, X_test, y_train, y_test = train_test_split(df['Preprocessed Text'], df['Cancer Type'], random_state = 0, test_size = 0.2, stratify = df['Cancer Type'])"
      ],
      "metadata": {
        "id": "p0mLYfRBw567"
      },
      "execution_count": 12,
      "outputs": []
    },
    {
      "cell_type": "code",
      "source": [
        "# Convert the labels into numbers\n",
        "def labels(label):\n",
        "  if label == 'Thyroid_Cancer':\n",
        "    return 0\n",
        "  elif label == 'Colon_Cancer':\n",
        "    return 1\n",
        "\n",
        "labels_train = y_train.apply(labels)\n",
        "labels_test = y_test.apply(labels)"
      ],
      "metadata": {
        "id": "og7URyVuBXAj"
      },
      "execution_count": 13,
      "outputs": []
    },
    {
      "cell_type": "code",
      "source": [
        "# Set device to GPU if available, else CPU\n",
        "device = torch.device(\"cuda:0\" if torch.cuda.is_available() else \"cpu\")\n",
        "device"
      ],
      "metadata": {
        "colab": {
          "base_uri": "https://localhost:8080/"
        },
        "id": "X3bKthd5x7UR",
        "outputId": "883bd50c-17c3-4ee5-d0bb-7c34d92488ed"
      },
      "execution_count": 14,
      "outputs": [
        {
          "output_type": "execute_result",
          "data": {
            "text/plain": [
              "device(type='cpu')"
            ]
          },
          "metadata": {},
          "execution_count": 14
        }
      ]
    },
    {
      "cell_type": "code",
      "source": [
        "# Using the tokenizer into numeric representation\n",
        "tokenizer = Tokenizer()\n",
        "tokenizer.fit_on_texts(X_train)\n",
        "preprocessed_text_train = tokenizer.texts_to_sequences(X_train)\n",
        "preprocessed_text_test = tokenizer.texts_to_sequences(X_test)"
      ],
      "metadata": {
        "id": "wVoSjFF_1X8I"
      },
      "execution_count": 15,
      "outputs": []
    },
    {
      "cell_type": "code",
      "source": [
        "# Length of sentences\n",
        "len_train = []\n",
        "for i in preprocessed_text_train:\n",
        "  len_train.append(len(i))\n",
        "\n",
        "pd.DataFrame(len_train).describe(percentiles = [0, 0.25, 0.5, 0.77, 0.9, 0.95, 0.96, 0.97, 0.98, 0.99]).T\n",
        "\n",
        "# Selecting the maximum length of 2830"
      ],
      "metadata": {
        "colab": {
          "base_uri": "https://localhost:8080/",
          "height": 81
        },
        "id": "je8mUYl87Moj",
        "outputId": "333a1801-c0b8-427a-8a04-3d4cf8fca991"
      },
      "execution_count": 16,
      "outputs": [
        {
          "output_type": "execute_result",
          "data": {
            "text/plain": [
              "    count        mean         std   min    0%     25%     50%     77%     90%  \\\n",
              "0  3928.0  2846.92057  557.968651  54.0  54.0  2830.0  3007.0  3162.0  3265.0   \n",
              "\n",
              "      95%     96%      97%     98%     99%     max  \n",
              "0  3334.0  3366.0  3423.42  3477.0  3486.0  3789.0  "
            ],
            "text/html": [
              "\n",
              "  <div id=\"df-e11d9325-2bb1-4a38-b040-10ba7936f116\">\n",
              "    <div class=\"colab-df-container\">\n",
              "      <div>\n",
              "<style scoped>\n",
              "    .dataframe tbody tr th:only-of-type {\n",
              "        vertical-align: middle;\n",
              "    }\n",
              "\n",
              "    .dataframe tbody tr th {\n",
              "        vertical-align: top;\n",
              "    }\n",
              "\n",
              "    .dataframe thead th {\n",
              "        text-align: right;\n",
              "    }\n",
              "</style>\n",
              "<table border=\"1\" class=\"dataframe\">\n",
              "  <thead>\n",
              "    <tr style=\"text-align: right;\">\n",
              "      <th></th>\n",
              "      <th>count</th>\n",
              "      <th>mean</th>\n",
              "      <th>std</th>\n",
              "      <th>min</th>\n",
              "      <th>0%</th>\n",
              "      <th>25%</th>\n",
              "      <th>50%</th>\n",
              "      <th>77%</th>\n",
              "      <th>90%</th>\n",
              "      <th>95%</th>\n",
              "      <th>96%</th>\n",
              "      <th>97%</th>\n",
              "      <th>98%</th>\n",
              "      <th>99%</th>\n",
              "      <th>max</th>\n",
              "    </tr>\n",
              "  </thead>\n",
              "  <tbody>\n",
              "    <tr>\n",
              "      <th>0</th>\n",
              "      <td>3928.0</td>\n",
              "      <td>2846.92057</td>\n",
              "      <td>557.968651</td>\n",
              "      <td>54.0</td>\n",
              "      <td>54.0</td>\n",
              "      <td>2830.0</td>\n",
              "      <td>3007.0</td>\n",
              "      <td>3162.0</td>\n",
              "      <td>3265.0</td>\n",
              "      <td>3334.0</td>\n",
              "      <td>3366.0</td>\n",
              "      <td>3423.42</td>\n",
              "      <td>3477.0</td>\n",
              "      <td>3486.0</td>\n",
              "      <td>3789.0</td>\n",
              "    </tr>\n",
              "  </tbody>\n",
              "</table>\n",
              "</div>\n",
              "      <button class=\"colab-df-convert\" onclick=\"convertToInteractive('df-e11d9325-2bb1-4a38-b040-10ba7936f116')\"\n",
              "              title=\"Convert this dataframe to an interactive table.\"\n",
              "              style=\"display:none;\">\n",
              "        \n",
              "  <svg xmlns=\"http://www.w3.org/2000/svg\" height=\"24px\"viewBox=\"0 0 24 24\"\n",
              "       width=\"24px\">\n",
              "    <path d=\"M0 0h24v24H0V0z\" fill=\"none\"/>\n",
              "    <path d=\"M18.56 5.44l.94 2.06.94-2.06 2.06-.94-2.06-.94-.94-2.06-.94 2.06-2.06.94zm-11 1L8.5 8.5l.94-2.06 2.06-.94-2.06-.94L8.5 2.5l-.94 2.06-2.06.94zm10 10l.94 2.06.94-2.06 2.06-.94-2.06-.94-.94-2.06-.94 2.06-2.06.94z\"/><path d=\"M17.41 7.96l-1.37-1.37c-.4-.4-.92-.59-1.43-.59-.52 0-1.04.2-1.43.59L10.3 9.45l-7.72 7.72c-.78.78-.78 2.05 0 2.83L4 21.41c.39.39.9.59 1.41.59.51 0 1.02-.2 1.41-.59l7.78-7.78 2.81-2.81c.8-.78.8-2.07 0-2.86zM5.41 20L4 18.59l7.72-7.72 1.47 1.35L5.41 20z\"/>\n",
              "  </svg>\n",
              "      </button>\n",
              "      \n",
              "  <style>\n",
              "    .colab-df-container {\n",
              "      display:flex;\n",
              "      flex-wrap:wrap;\n",
              "      gap: 12px;\n",
              "    }\n",
              "\n",
              "    .colab-df-convert {\n",
              "      background-color: #E8F0FE;\n",
              "      border: none;\n",
              "      border-radius: 50%;\n",
              "      cursor: pointer;\n",
              "      display: none;\n",
              "      fill: #1967D2;\n",
              "      height: 32px;\n",
              "      padding: 0 0 0 0;\n",
              "      width: 32px;\n",
              "    }\n",
              "\n",
              "    .colab-df-convert:hover {\n",
              "      background-color: #E2EBFA;\n",
              "      box-shadow: 0px 1px 2px rgba(60, 64, 67, 0.3), 0px 1px 3px 1px rgba(60, 64, 67, 0.15);\n",
              "      fill: #174EA6;\n",
              "    }\n",
              "\n",
              "    [theme=dark] .colab-df-convert {\n",
              "      background-color: #3B4455;\n",
              "      fill: #D2E3FC;\n",
              "    }\n",
              "\n",
              "    [theme=dark] .colab-df-convert:hover {\n",
              "      background-color: #434B5C;\n",
              "      box-shadow: 0px 1px 3px 1px rgba(0, 0, 0, 0.15);\n",
              "      filter: drop-shadow(0px 1px 2px rgba(0, 0, 0, 0.3));\n",
              "      fill: #FFFFFF;\n",
              "    }\n",
              "  </style>\n",
              "\n",
              "      <script>\n",
              "        const buttonEl =\n",
              "          document.querySelector('#df-e11d9325-2bb1-4a38-b040-10ba7936f116 button.colab-df-convert');\n",
              "        buttonEl.style.display =\n",
              "          google.colab.kernel.accessAllowed ? 'block' : 'none';\n",
              "\n",
              "        async function convertToInteractive(key) {\n",
              "          const element = document.querySelector('#df-e11d9325-2bb1-4a38-b040-10ba7936f116');\n",
              "          const dataTable =\n",
              "            await google.colab.kernel.invokeFunction('convertToInteractive',\n",
              "                                                     [key], {});\n",
              "          if (!dataTable) return;\n",
              "\n",
              "          const docLinkHtml = 'Like what you see? Visit the ' +\n",
              "            '<a target=\"_blank\" href=https://colab.research.google.com/notebooks/data_table.ipynb>data table notebook</a>'\n",
              "            + ' to learn more about interactive tables.';\n",
              "          element.innerHTML = '';\n",
              "          dataTable['output_type'] = 'display_data';\n",
              "          await google.colab.output.renderOutput(dataTable, element);\n",
              "          const docLink = document.createElement('div');\n",
              "          docLink.innerHTML = docLinkHtml;\n",
              "          element.appendChild(docLink);\n",
              "        }\n",
              "      </script>\n",
              "    </div>\n",
              "  </div>\n",
              "  "
            ]
          },
          "metadata": {},
          "execution_count": 16
        }
      ]
    },
    {
      "cell_type": "code",
      "source": [
        "pad_train = pad_sequences(preprocessed_text_train, maxlen = 2830, padding = 'post')\n",
        "pad_test = pad_sequences(preprocessed_text_test, maxlen = 2830, padding = 'post')"
      ],
      "metadata": {
        "id": "4972gmIE73rD"
      },
      "execution_count": 17,
      "outputs": []
    },
    {
      "cell_type": "code",
      "source": [
        "# Model Building using LSTM\n",
        "inp = Input(shape = (2830, ))\n",
        "lstm = LSTM(units = 32)(tf.expand_dims(inp, axis=-1))\n",
        "lstm = BatchNormalization()(lstm)\n",
        "flatten = Flatten()(lstm)\n",
        "dense = Dense(32, activation = 'relu')(flatten)\n",
        "dense = Dense(1, activation = 'sigmoid')(dense)\n",
        "model = Model(inputs = inp, outputs = dense)"
      ],
      "metadata": {
        "id": "8LM-aUow9mZp"
      },
      "execution_count": 26,
      "outputs": []
    },
    {
      "cell_type": "code",
      "source": [
        "model.summary()"
      ],
      "metadata": {
        "colab": {
          "base_uri": "https://localhost:8080/"
        },
        "id": "BNeoqIqs-H7P",
        "outputId": "41910819-6e07-4d2e-d3b5-8d3424cba037"
      },
      "execution_count": 27,
      "outputs": [
        {
          "output_type": "stream",
          "name": "stdout",
          "text": [
            "Model: \"model_4\"\n",
            "_________________________________________________________________\n",
            " Layer (type)                Output Shape              Param #   \n",
            "=================================================================\n",
            " input_5 (InputLayer)        [(None, 2830)]            0         \n",
            "                                                                 \n",
            " tf.expand_dims_26 (TFOpLamb  (None, 2830, 1)          0         \n",
            " da)                                                             \n",
            "                                                                 \n",
            " lstm_26 (LSTM)              (None, 32)                4352      \n",
            "                                                                 \n",
            " batch_normalization_11 (Bat  (None, 32)               128       \n",
            " chNormalization)                                                \n",
            "                                                                 \n",
            " flatten_4 (Flatten)         (None, 32)                0         \n",
            "                                                                 \n",
            " dense_8 (Dense)             (None, 32)                1056      \n",
            "                                                                 \n",
            " dense_9 (Dense)             (None, 1)                 33        \n",
            "                                                                 \n",
            "=================================================================\n",
            "Total params: 5,569\n",
            "Trainable params: 5,505\n",
            "Non-trainable params: 64\n",
            "_________________________________________________________________\n"
          ]
        }
      ]
    },
    {
      "cell_type": "code",
      "source": [
        "model.compile(optimizer = 'adam', loss = 'binary_crossentropy', metrics = 'accuracy')\n",
        "performance = model.fit(x = pad_train, y=labels_train, batch_size = 64, epochs = 50)"
      ],
      "metadata": {
        "colab": {
          "base_uri": "https://localhost:8080/"
        },
        "id": "DSd4q_xz_MaO",
        "outputId": "17942f68-cfcc-4b79-86a2-dcf005d3f816"
      },
      "execution_count": 28,
      "outputs": [
        {
          "output_type": "stream",
          "name": "stdout",
          "text": [
            "Epoch 1/50\n",
            "62/62 [==============================] - 124s 1s/step - loss: 0.6849 - accuracy: 0.5583\n",
            "Epoch 2/50\n",
            "62/62 [==============================] - 74s 1s/step - loss: 0.6753 - accuracy: 0.5774\n",
            "Epoch 3/50\n",
            "62/62 [==============================] - 73s 1s/step - loss: 0.6747 - accuracy: 0.5804\n",
            "Epoch 4/50\n",
            "62/62 [==============================] - 74s 1s/step - loss: 0.6711 - accuracy: 0.5817\n",
            "Epoch 5/50\n",
            "62/62 [==============================] - 74s 1s/step - loss: 0.6664 - accuracy: 0.5924\n",
            "Epoch 6/50\n",
            "62/62 [==============================] - 73s 1s/step - loss: 0.6621 - accuracy: 0.5995\n",
            "Epoch 7/50\n",
            "62/62 [==============================] - 75s 1s/step - loss: 0.6540 - accuracy: 0.6049\n",
            "Epoch 8/50\n",
            "62/62 [==============================] - 74s 1s/step - loss: 0.6437 - accuracy: 0.6079\n",
            "Epoch 9/50\n",
            "62/62 [==============================] - 74s 1s/step - loss: 0.6444 - accuracy: 0.6110\n",
            "Epoch 10/50\n",
            "62/62 [==============================] - 74s 1s/step - loss: 0.6349 - accuracy: 0.6258\n",
            "Epoch 11/50\n",
            "62/62 [==============================] - 73s 1s/step - loss: 0.6235 - accuracy: 0.6326\n",
            "Epoch 12/50\n",
            "62/62 [==============================] - 74s 1s/step - loss: 0.6178 - accuracy: 0.6349\n",
            "Epoch 13/50\n",
            "62/62 [==============================] - 74s 1s/step - loss: 0.6234 - accuracy: 0.6403\n",
            "Epoch 14/50\n",
            "62/62 [==============================] - 73s 1s/step - loss: 0.6099 - accuracy: 0.6507\n",
            "Epoch 15/50\n",
            "62/62 [==============================] - 74s 1s/step - loss: 0.6014 - accuracy: 0.6499\n",
            "Epoch 16/50\n",
            "62/62 [==============================] - 74s 1s/step - loss: 0.5986 - accuracy: 0.6512\n",
            "Epoch 17/50\n",
            "62/62 [==============================] - 75s 1s/step - loss: 0.5927 - accuracy: 0.6487\n",
            "Epoch 18/50\n",
            "62/62 [==============================] - 72s 1s/step - loss: 0.5868 - accuracy: 0.6589\n",
            "Epoch 19/50\n",
            "62/62 [==============================] - 74s 1s/step - loss: 0.5854 - accuracy: 0.6685\n",
            "Epoch 20/50\n",
            "62/62 [==============================] - 75s 1s/step - loss: 0.5799 - accuracy: 0.6642\n",
            "Epoch 21/50\n",
            "62/62 [==============================] - 72s 1s/step - loss: 0.5786 - accuracy: 0.6762\n",
            "Epoch 22/50\n",
            "62/62 [==============================] - 74s 1s/step - loss: 0.5724 - accuracy: 0.6718\n",
            "Epoch 23/50\n",
            "62/62 [==============================] - 75s 1s/step - loss: 0.5746 - accuracy: 0.6645\n",
            "Epoch 24/50\n",
            "62/62 [==============================] - 72s 1s/step - loss: 0.5632 - accuracy: 0.6851\n",
            "Epoch 25/50\n",
            "62/62 [==============================] - 75s 1s/step - loss: 0.5655 - accuracy: 0.6764\n",
            "Epoch 26/50\n",
            "62/62 [==============================] - 73s 1s/step - loss: 0.5554 - accuracy: 0.6858\n",
            "Epoch 27/50\n",
            "62/62 [==============================] - 74s 1s/step - loss: 0.5538 - accuracy: 0.6861\n",
            "Epoch 28/50\n",
            "62/62 [==============================] - 75s 1s/step - loss: 0.5432 - accuracy: 0.7034\n",
            "Epoch 29/50\n",
            "62/62 [==============================] - 73s 1s/step - loss: 0.5413 - accuracy: 0.6981\n",
            "Epoch 30/50\n",
            "62/62 [==============================] - 72s 1s/step - loss: 0.5393 - accuracy: 0.6932\n",
            "Epoch 31/50\n",
            "62/62 [==============================] - 74s 1s/step - loss: 0.5292 - accuracy: 0.7026\n",
            "Epoch 32/50\n",
            "62/62 [==============================] - 72s 1s/step - loss: 0.5259 - accuracy: 0.7126\n",
            "Epoch 33/50\n",
            "62/62 [==============================] - 75s 1s/step - loss: 0.5241 - accuracy: 0.6970\n",
            "Epoch 34/50\n",
            "62/62 [==============================] - 73s 1s/step - loss: 0.5174 - accuracy: 0.7146\n",
            "Epoch 35/50\n",
            "62/62 [==============================] - 72s 1s/step - loss: 0.5102 - accuracy: 0.7217\n",
            "Epoch 36/50\n",
            "62/62 [==============================] - 75s 1s/step - loss: 0.5139 - accuracy: 0.7105\n",
            "Epoch 37/50\n",
            "62/62 [==============================] - 73s 1s/step - loss: 0.5082 - accuracy: 0.7228\n",
            "Epoch 38/50\n",
            "62/62 [==============================] - 73s 1s/step - loss: 0.5047 - accuracy: 0.7187\n",
            "Epoch 39/50\n",
            "62/62 [==============================] - 75s 1s/step - loss: 0.4955 - accuracy: 0.7225\n",
            "Epoch 40/50\n",
            "62/62 [==============================] - 73s 1s/step - loss: 0.4848 - accuracy: 0.7388\n",
            "Epoch 41/50\n",
            "62/62 [==============================] - 73s 1s/step - loss: 0.4882 - accuracy: 0.7296\n",
            "Epoch 42/50\n",
            "62/62 [==============================] - 75s 1s/step - loss: 0.4862 - accuracy: 0.7378\n",
            "Epoch 43/50\n",
            "62/62 [==============================] - 73s 1s/step - loss: 0.4939 - accuracy: 0.7271\n",
            "Epoch 44/50\n",
            "62/62 [==============================] - 74s 1s/step - loss: 0.4785 - accuracy: 0.7365\n",
            "Epoch 45/50\n",
            "62/62 [==============================] - 74s 1s/step - loss: 0.4695 - accuracy: 0.7490\n",
            "Epoch 46/50\n",
            "62/62 [==============================] - 72s 1s/step - loss: 0.4685 - accuracy: 0.7449\n",
            "Epoch 47/50\n",
            "62/62 [==============================] - 75s 1s/step - loss: 0.4660 - accuracy: 0.7525\n",
            "Epoch 48/50\n",
            "62/62 [==============================] - 72s 1s/step - loss: 0.4562 - accuracy: 0.7546\n",
            "Epoch 49/50\n",
            "62/62 [==============================] - 73s 1s/step - loss: 0.4477 - accuracy: 0.7625\n",
            "Epoch 50/50\n",
            "62/62 [==============================] - 75s 1s/step - loss: 0.4508 - accuracy: 0.7569\n"
          ]
        }
      ]
    },
    {
      "cell_type": "code",
      "source": [
        "predictions = model.predict(pad_test)"
      ],
      "metadata": {
        "colab": {
          "base_uri": "https://localhost:8080/"
        },
        "id": "EwmfvmYv_1qq",
        "outputId": "2ae57ffa-cfd1-43fa-8720-5e05173d40b5"
      },
      "execution_count": 29,
      "outputs": [
        {
          "output_type": "stream",
          "name": "stdout",
          "text": [
            "31/31 [==============================] - 10s 303ms/step\n"
          ]
        }
      ]
    },
    {
      "cell_type": "code",
      "source": [
        "predictions = predictions.reshape(-1, )\n",
        "\n",
        "def pred_func(predictions):\n",
        "  final = []\n",
        "  for p in predictions:\n",
        "    if p >= 0.5:\n",
        "      final.append(1)\n",
        "    else:\n",
        "      final.append(0)\n",
        "  return final\n",
        "\n",
        "  \n",
        "classes_test = pred_func(predictions)"
      ],
      "metadata": {
        "id": "jq0OtSjHpzRz"
      },
      "execution_count": 34,
      "outputs": []
    },
    {
      "cell_type": "code",
      "source": [
        "print('The accuracy on the test set is {}'.format(round(accuracy_score(labels_test, classes_test), 2)))"
      ],
      "metadata": {
        "colab": {
          "base_uri": "https://localhost:8080/"
        },
        "id": "9eftui75x0b7",
        "outputId": "337f1b4d-c30b-486c-c9b6-a83f41ece7ad"
      },
      "execution_count": 40,
      "outputs": [
        {
          "output_type": "stream",
          "name": "stdout",
          "text": [
            "The accuracy on the test set is 0.72\n"
          ]
        }
      ]
    },
    {
      "cell_type": "code",
      "source": [
        "plt.figure(figsize = (8, 4))\n",
        "sns.heatmap(confusion_matrix(labels_test, classes_test), annot = True, fmt = '.0f')\n",
        "plt.xlabel('Actual')\n",
        "plt.ylabel('Predicted')\n",
        "plt.show()"
      ],
      "metadata": {
        "colab": {
          "base_uri": "https://localhost:8080/",
          "height": 388
        },
        "id": "_ooFD23I28Fd",
        "outputId": "7c1ab544-e4c4-467a-c8fd-0532c972c5f7"
      },
      "execution_count": 42,
      "outputs": [
        {
          "output_type": "display_data",
          "data": {
            "text/plain": [
              "<Figure size 800x400 with 2 Axes>"
            ],
            "image/png": "[encoded data removed]"
          },
          "metadata": {}
        }
      ]
    },
    {
      "cell_type": "code",
      "source": [],
      "metadata": {
        "id": "0vs8MCM06soK"
      },
      "execution_count": null,
      "outputs": []
    }
  ]
}